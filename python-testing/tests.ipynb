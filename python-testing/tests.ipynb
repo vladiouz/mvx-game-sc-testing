{
 "cells": [
  {
   "cell_type": "code",
   "execution_count": 59,
   "metadata": {},
   "outputs": [],
   "source": [
    "# %pip install /home/vladiouz/MvX/mx-sdk-py\n",
    "# %pip install ipytest\n",
    "# %pip install asyncio\n",
    "import time"
   ]
  },
  {
   "cell_type": "code",
   "execution_count": 47,
   "metadata": {},
   "outputs": [],
   "source": [
    "from multiversx_sdk import Transaction, TransactionComputer, UserSigner, ApiNetworkProvider, Address\n",
    "from pathlib import Path\n",
    "import ipytest\n",
    "\n",
    "ipytest.autoconfig()\n",
    "\n",
    "provider = ApiNetworkProvider(\"https://devnet-api.multiversx.com\")\n",
    "signer_owner = UserSigner.from_pem_file(Path(\"/home/vladiouz/MvX/mx-contracts-rs/contracts/mvx-game-sc/interactor/wallet1.pem\"))\n",
    "signer_second_user = UserSigner.from_pem_file(Path(\"/home/vladiouz/MvX/mx-contracts-rs/contracts/mvx-game-sc/interactor/wallet2.pem\"))\n",
    "signer_third_user = UserSigner.from_pem_file(Path(\"/home/vladiouz/MvX/mx-contracts-rs/contracts/mvx-game-sc/interactor/wallet3.pem\"))\n",
    "owner_address = Address.from_bech32(\"erd1r6f7nfpyzul2tef7gne5h6nx9xqnyt5gehwltlxymnqkztjjzvuqdhderc\")\n",
    "second_user_address = Address.from_bech32(\"erd1tjusdv806tuwzllgesljglm7y9jef38wdylkvp85v7a46z9x23us0z5xtr\")\n",
    "third_user_address = Address.from_bech32(\"erd1pu4r9rxgn8f7a7gwjchtxjz6y4u3ha7fy93w6r3fjeq26jaqkqjs4ly8fd\")\n",
    "contract = Address.from_bech32(\"erd1qqqqqqqqqqqqqpgq22z56q99vurkc7aqlv5ds2gfs823umngzvuqnyrmzj\")\n",
    "token_id = \"VLD-76ecd8\"\n",
    "another_token_id = \"WRNG-67975d\"\n",
    "third_token_id = \"RAND-e3641c\"\n",
    "fee_amount = 1\n",
    "wage_amount = 1\n",
    "waiting_time = 10000000000000"
   ]
  },
  {
   "cell_type": "markdown",
   "metadata": {},
   "source": [
    "#### setup function calls"
   ]
  },
  {
   "cell_type": "code",
   "execution_count": 36,
   "metadata": {},
   "outputs": [],
   "source": [
    "from multiversx_sdk.abi import Abi\n",
    "from multiversx_sdk import SmartContractTransactionsFactory, TransactionsFactoryConfig\n",
    "from multiversx_sdk import QueryRunnerAdapter, SmartContractQueriesController\n",
    "\n",
    "abi = Abi.load(\"mvx-game-sc.abi.json\")\n",
    "config = TransactionsFactoryConfig(chain_id=\"D\")\n",
    "factory = SmartContractTransactionsFactory(config, abi)\n",
    "query_runner = QueryRunnerAdapter(provider)\n",
    "query_controller = SmartContractQueriesController(query_runner, abi)"
   ]
  },
  {
   "cell_type": "markdown",
   "metadata": {},
   "source": [
    "#### `create_game()` EP"
   ]
  },
  {
   "cell_type": "code",
   "execution_count": 37,
   "metadata": {},
   "outputs": [],
   "source": [
    "from multiversx_sdk import Token, TokenTransfer\n",
    "\n",
    "def create_game(signer_address, signer, waiting_time, min_players, max_players, wager):\n",
    "    tx = factory.create_transaction_for_execute(\n",
    "        sender=signer_address,\n",
    "        contract=contract,\n",
    "        function=\"createGame\",\n",
    "        gas_limit=10000000,\n",
    "        arguments=[waiting_time, min_players, max_players, wager],\n",
    "        token_transfers=[TokenTransfer(Token(token_id), fee_amount)]\n",
    "    )\n",
    "\n",
    "    transaction_computer = TransactionComputer()\n",
    "\n",
    "    tx.nonce = provider.get_account(signer_address).nonce\n",
    "    tx.signature = signer.sign(transaction_computer.compute_bytes_for_signing(tx))\n",
    "    hash = provider.send_transaction(tx)\n",
    "    print(\"Transaction hash:\", hash)"
   ]
  },
  {
   "cell_type": "markdown",
   "metadata": {},
   "source": [
    "#### `join_game()` EP"
   ]
  },
  {
   "cell_type": "code",
   "execution_count": 44,
   "metadata": {},
   "outputs": [],
   "source": [
    "def join_game(signer_address, signer, game_id):\n",
    "    tx = factory.create_transaction_for_execute(\n",
    "        sender=signer_address,\n",
    "        contract=contract,\n",
    "        function=\"joinGame\",\n",
    "        gas_limit=10000000,\n",
    "        arguments=[game_id],\n",
    "        token_transfers=[TokenTransfer(Token(token_id), fee_amount)]\n",
    "    )\n",
    "\n",
    "    transaction_computer = TransactionComputer()\n",
    "\n",
    "    tx.nonce = provider.get_account(signer_address).nonce\n",
    "    tx.signature = signer.sign(transaction_computer.compute_bytes_for_signing(tx))\n",
    "    hash = provider.send_transaction(tx)\n",
    "    print(\"Transaction hash:\", hash)"
   ]
  },
  {
   "cell_type": "markdown",
   "metadata": {},
   "source": [
    "#### `game_start_fee()` view"
   ]
  },
  {
   "cell_type": "code",
   "execution_count": 39,
   "metadata": {},
   "outputs": [],
   "source": [
    "def game_start_fee():\n",
    "    return query_controller.query(\n",
    "        contract=contract.to_bech32(),\n",
    "        function=\"getGameStartFee\",\n",
    "        arguments=[],\n",
    "    )[0]"
   ]
  },
  {
   "cell_type": "markdown",
   "metadata": {},
   "source": [
    "#### `players()` view"
   ]
  },
  {
   "cell_type": "code",
   "execution_count": 40,
   "metadata": {},
   "outputs": [],
   "source": [
    "def players(game_id):\n",
    "    return query_controller.query(\n",
    "        contract=contract.to_bech32(),\n",
    "        function=\"getPlayers\",\n",
    "        arguments=[game_id],\n",
    "    )[0]"
   ]
  },
  {
   "cell_type": "markdown",
   "metadata": {},
   "source": [
    "#### `last_game_id()` view"
   ]
  },
  {
   "cell_type": "code",
   "execution_count": 41,
   "metadata": {},
   "outputs": [],
   "source": [
    "def last_game_id():\n",
    "    return query_controller.query(\n",
    "        contract=contract.to_bech32(),\n",
    "        function=\"getLastGameId\",\n",
    "        arguments=[],\n",
    "    )[0]"
   ]
  },
  {
   "cell_type": "markdown",
   "metadata": {},
   "source": [
    "#### tests"
   ]
  },
  {
   "cell_type": "code",
   "execution_count": 71,
   "metadata": {},
   "outputs": [],
   "source": [
    "def test_create_game():\n",
    "    create_game(owner_address, signer_owner, waiting_time, 2, 2, wage_amount)\n",
    "\n",
    "def test_join_game():\n",
    "    create_game(owner_address, signer_owner, waiting_time, 2, 2, wage_amount)\n",
    "    time.sleep(45)\n",
    "    join_game(second_user_address, signer_second_user, last_game_id())\n",
    "    time.sleep(45)\n",
    "    assert players(last_game_id())[0].hex() == second_user_address.to_hex()\n",
    "    "
   ]
  },
  {
   "cell_type": "markdown",
   "metadata": {},
   "source": [
    "#### run tests"
   ]
  },
  {
   "cell_type": "code",
   "execution_count": null,
   "metadata": {},
   "outputs": [],
   "source": [
    "ipytest.run()"
   ]
  }
 ],
 "metadata": {
  "kernelspec": {
   "display_name": ".venv",
   "language": "python",
   "name": "python3"
  },
  "language_info": {
   "codemirror_mode": {
    "name": "ipython",
    "version": 3
   },
   "file_extension": ".py",
   "mimetype": "text/x-python",
   "name": "python",
   "nbconvert_exporter": "python",
   "pygments_lexer": "ipython3",
   "version": "3.11.3"
  }
 },
 "nbformat": 4,
 "nbformat_minor": 2
}
